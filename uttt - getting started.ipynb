{
 "cells": [
  {
   "cell_type": "markdown",
   "id": "4f48051b-dc94-4acc-9525-7fa2976cc1a3",
   "metadata": {},
   "source": [
    "### Intro\n",
    "This notebook is a Jupyter-based starting point for someone developing a bot for ultimate tic-tac-toe (UTTT).\n",
    "\n",
    "The absolute first step to developing a bot is to understand the game, and we suggest reading the rules and playing against the bot on https://www.uttt.ai/. That implementation uses the same rules as we do.\n",
    "\n",
    "Before staring to code, come up with some human-level ideas about what makes a move good and what makes a move bad. Being able to explain in detail why a move falls into these two categories will be the first steps of your first bot.\n",
    "\n",
    "---\n",
    "Below is a cell for importing basic libraries and helping visualize the intermediate board states. You can run Jupyer notebook cells by activating them and pressing: Shift + Enter.\n"
   ]
  },
  {
   "cell_type": "code",
   "execution_count": 1,
   "id": "581c74b0-2df8-4d77-8f0c-e8b88c0d6b9e",
   "metadata": {},
   "outputs": [],
   "source": [
    "''' core imports '''\n",
    "import numpy as np\n",
    "import matplotlib.pyplot as plt\n",
    "\n",
    "''' development imports'''\n",
    "from time import perf_counter\n",
    "from tqdm import tqdm\n",
    "\n",
    "''' visualization imports '''\n",
    "from matplotlib.colors import LinearSegmentedColormap\n",
    "cmap = LinearSegmentedColormap.from_list('mycmap', ['lightgrey', 'white'])\n",
    "import matplotlib.colors as mcolors\n",
    "tab10_names = list(mcolors.TABLEAU_COLORS) # create a list of colours\n",
    "\n",
    "def checkerboard(shape):\n",
    "    # from https://stackoverflow.com/questions/2169478/how-to-make-a-checkerboard-in-numpy\n",
    "    return np.indices(shape).sum(axis=0) % 2\n",
    "\n"
   ]
  },
  {
   "cell_type": "markdown",
   "id": "a2f0cf6f-6456-4dfa-b496-dd6da2034c05",
   "metadata": {
    "jp-MarkdownHeadingCollapsed": true,
    "tags": []
   },
   "source": [
    "---\n",
    "### Bot template\n",
    "You will be providing us a Python class that follows the following template.\n",
    "\n",
    "It has two parts:\n",
    "1) An initialized <b>name</b> (helping to make your bot your own). Please have this set to some default value.\n",
    "2) A <b>.move</b> method that takes a dictionary as input\n"
   ]
  },
  {
   "cell_type": "code",
   "execution_count": 45,
   "id": "2c9bc31e-a76f-48a7-8083-2824e8abb960",
   "metadata": {},
   "outputs": [],
   "source": [
    "class bot_template:\n",
    "    ''' \n",
    "    demonstrates the two minimal functions for an agent\n",
    "    '''\n",
    "    def __init__(self, name: str = 'bot_template'):\n",
    "        self.name = name\n",
    "        \n",
    "    def move(self, board_dict: dict) -> tuple:\n",
    "        '''\n",
    "        the keywords for board_dict are:\n",
    "        board_state: a 9x9 np.array showing which squares have which markers.\n",
    "                     your markers at +1 and your opponent markers are -1.\n",
    "                     open squares are 0\n",
    "        active_box:  the coordinate for the active mini-board (indicates which 3x3 is currently playable)\n",
    "                     a value of (-1, -1) is used if the whole board is valid\n",
    "        valid_moves: a list of tuples indicating which positions are valid (in the 9x9 format)\n",
    "        '''\n",
    "        pass    \n",
    "    "
   ]
  },
  {
   "cell_type": "markdown",
   "id": "d57ef348-07cb-4270-b7a7-f533bd13ca7b",
   "metadata": {
    "jp-MarkdownHeadingCollapsed": true,
    "tags": []
   },
   "source": [
    "---\n",
    "### Pre-programmed bots\n",
    "\n",
    "Below are two very simple bots that are not very good."
   ]
  },
  {
   "cell_type": "code",
   "execution_count": 46,
   "id": "55f302e5-26d2-4347-8475-3f6cd29c432e",
   "metadata": {},
   "outputs": [],
   "source": [
    "class random_bot:\n",
    "    '''\n",
    "    this bot selects a random valid move\n",
    "    '''\n",
    "    def __init__(self, name = 'beep-boop'):\n",
    "        self.name = name\n",
    "    def move(self, board_dict):\n",
    "        random_index = np.random.choice(len(board_dict['valid_moves']))\n",
    "        return board_dict['valid_moves'][random_index]\n",
    "    \n",
    "class same_box_bot:\n",
    "    '''\n",
    "    this bot tries to play in the same mini board that it currently is in\n",
    "    it will often return an invalid move, which is converted to a random move.\n",
    "    '''\n",
    "    def __init__(self, name = 'stuart'):\n",
    "        self.name = name\n",
    "        \n",
    "    def move(self, board_dict):\n",
    "        return board_dict['active_box']\n",
    "\n",
    "class first_bot(bot_template):\n",
    "    '''\n",
    "    the board_dict provides a list of valid moves\n",
    "    this bot plays the first entry of that list\n",
    "    '''\n",
    "    def __init__(self, name = 'dozer'):\n",
    "        self.name = name\n",
    "        \n",
    "    def move(self, board_dict):\n",
    "        return board_dict['valid_moves'][0]\n"
   ]
  },
  {
   "cell_type": "markdown",
   "id": "aaacea67-abbd-48c1-903b-df98cf899819",
   "metadata": {
    "jp-MarkdownHeadingCollapsed": true,
    "tags": []
   },
   "source": [
    "--- \n",
    "### Game engine\n",
    "\n",
    "The class below contains all the information and logic to run the game in this notebook\n",
    "\n",
    "Run the following cell, and we will look at the methods later in this notebook."
   ]
  },
  {
   "cell_type": "code",
   "execution_count": 47,
   "id": "8853fa59-4362-4d37-9fa4-532d3a2ad674",
   "metadata": {},
   "outputs": [],
   "source": [
    "class uttt_engine():\n",
    "    def __init__(self):\n",
    "        self.active_box = (-1,-1)    # (-1,-1) means any box can be played in\n",
    "        self.board_state = np.zeros((9,9))\n",
    "        self.finished_boxes = np.zeros((3,3)) # 1 for agent1, -1 for agent2. \"6\" indicates stalemate\n",
    "        self.finished = False\n",
    "        self.finished_win = False\n",
    "        self.finished_stale = False\n",
    "        self.current_player = 1 # starting player\n",
    "        self.game_log = ''\n",
    "\n",
    "    ''' -------------- Initialization ------'''\n",
    "    def load_agents(self, agent1: bot_template, agent2: bot_template) -> None:\n",
    "        ''' agent1 and agent2 are uttt agents '''\n",
    "        self.agents = [agent1, agent2]\n",
    "        \n",
    "    ''' --------------- Logging ----------- '''\n",
    "    \n",
    "    def get_game_log(self) -> str:\n",
    "        ''' returns the current game encoding (for visualization) '''\n",
    "        return self.game_log\n",
    "\n",
    "    def log_move(self, position: tuple) -> None:\n",
    "        # convert tuple to string, append character to existing game code\n",
    "        offset = 32\n",
    "        self.game_log += (chr(position[0]*9 + position[1] + offset))\n",
    "        \n",
    "    def load_game(self, game_string:str) -> None:\n",
    "        ''' assumes the game string is valid (this is not strictly enforced) '''\n",
    "        for encoded_position in game_string:\n",
    "            # update game board\n",
    "            self.move(self.unconvert(encoded_position), log=False)\n",
    "\n",
    "    def unconvert(self, symbol):\n",
    "        ''' part of loading a game from a string '''\n",
    "        offset = 32\n",
    "        int_position = ord(symbol) - offset\n",
    "        return (int_position//9, int_position%9)\n",
    "    \n",
    "    ''' ------------- Logic --------------- '''\n",
    "    \n",
    "    def get_query_dict(self) -> dict:\n",
    "        ''' can be used in development to understand what the bot is being provided for logic '''\n",
    "        return {'board_state': self.board_state * self.current_player,\n",
    "                'active_box':  self.active_box,\n",
    "                'valid_moves': self.get_valid_moves()}\n",
    "    \n",
    "    def query_player(self, loud: bool = False) -> None:\n",
    "        '''\n",
    "        send a request to a player instance for a move\n",
    "        updates the game board with the desired move\n",
    "        if no valid move is returned, a random move is played for that agent\n",
    "        the \"loud\" argument can be used to hear/silence warnings\n",
    "        '''\n",
    "        # check agents are loaded\n",
    "        if not hasattr(self, 'agents'):\n",
    "            print('must load agents')\n",
    "            return \n",
    "        \n",
    "        # check game is not finished\n",
    "        if self.finished:\n",
    "            print('no valid moves in terminal state')\n",
    "            #print(\"(something went wrong, you shouldn't be here)\")\n",
    "            #print('put in a \"game_finished\" check somewhere')\n",
    "            return\n",
    "        \n",
    "        # send the request with board information in the form of a dictionary\n",
    "        temp_valid_moves = self.get_valid_moves()\n",
    "        temp_valid_moves = [tuple(x) for x in temp_valid_moves]\n",
    "\n",
    "        try:\n",
    "            desired_move = tuple(self.agents[0].move(self.get_query_dict()))\n",
    "            if desired_move not in temp_valid_moves:\n",
    "                random_index = np.random.choice(np.arange(len(temp_valid_moves)))\n",
    "                desired_move = tuple(temp_valid_moves[random_index])\n",
    "                if loud:\n",
    "                    print(f'warning: {self.agents[0].name} played an invalid move. converting to random valid alternative')\n",
    "            # update board\n",
    "            self.move(position = desired_move)\n",
    "            \n",
    "        except:\n",
    "            # shouldn't get here, but this chunk of code exists for safety\n",
    "            if loud:\n",
    "                print(f'warning: exception raised in \"query\" for {self.agents[0].name}')\n",
    "            random_index = np.random.choice(np.arange(len(temp_valid_moves)))\n",
    "            desired_move = tuple(temp_valid_moves[random_index])\n",
    "\n",
    "            # update board\n",
    "            self.move(position = desired_move)\n",
    "            \n",
    "    def switch_active_player(self) -> None:\n",
    "        ''' switch the current player value and the agent list '''\n",
    "        # this is called at the end of .move()\n",
    "        self.agents = self.agents[::-1]\n",
    "        self.current_player *= -1\n",
    "        \n",
    "    def getwinner(self) -> int:\n",
    "        ''' new method\n",
    "        returns the integer indicating the winning player\n",
    "        (subject to change)\n",
    "        '''\n",
    "        if self.finished:\n",
    "            if self.finished_win:\n",
    "                return self.current_player\n",
    "            else:\n",
    "                return 0\n",
    "    \n",
    "    def check_validity(self, position: tuple) -> bool:\n",
    "        ''' check whether position - a tuple - is valid '''\n",
    "        box_validity = (self.active_box == self.map_to_major(position)) \\\n",
    "                        or (self.active_box == (-1,-1))\n",
    "        open_validity = (self.board_state[position] == 0)\n",
    "        return box_validity and open_validity\n",
    "    \n",
    "    def check_line(self, box: np.array) -> bool:\n",
    "        '''\n",
    "        box is a (3,3) array (typically a mini-board)\n",
    "        returns True if a line is found\n",
    "        '''\n",
    "        for i in range(3):\n",
    "            if abs(sum(box[:,i])) == 3: return True # horizontal\n",
    "            if abs(sum(box[i,:])) == 3: return True # vertical\n",
    "\n",
    "        # diagonals\n",
    "        if abs(box.trace()) == 3: return True\n",
    "        if abs(np.rot90(box).trace()) == 3: return True\n",
    "\n",
    "    def map_to_major(self, position: tuple) -> tuple:\n",
    "        '''\n",
    "        converts position to major coordinates\n",
    "        eg: (5,3) -> (1,1)\n",
    "        '''\n",
    "        return(position[0]//3, position[1]//3)\n",
    "\n",
    "    def map_to_minor(self, position: tuple) -> tuple:\n",
    "        '''\n",
    "        converts position into mini coordinates\n",
    "        eg: (5,3) -> (2,0)\n",
    "        '''\n",
    "        return (position[0]%3, position[1]%3)\n",
    "\n",
    "    def check_full_stale(self) -> None:\n",
    "        ''' this might be impossible? '''\n",
    "        # get number of invalid boxes\n",
    "        \n",
    "        if (self.finished_boxes == 0).sum() == 0:\n",
    "            self.finished_stale = True\n",
    "            self.finished = True\n",
    "\n",
    "    def move(self, position: tuple, log: bool = True) -> None:\n",
    "        '''\n",
    "        the main game logic. board updates and logic checks.\n",
    "        '''\n",
    "        if self.finished:\n",
    "            print('no move played, game is finished')\n",
    "            return\n",
    "        \n",
    "        if self.check_validity(position):\n",
    "            \n",
    "            # log move\n",
    "            if log:\n",
    "                self.log_move(position)\n",
    "                \n",
    "            # place marker\n",
    "            self.board_state[position] = self.current_player\n",
    "            \n",
    "            # select both scales\n",
    "            temp_box = self.map_to_major(position)\n",
    "            temp_minor_box = self.board_state[3*temp_box[0]:3*temp_box[0]+3,\n",
    "                                              3*temp_box[1]:3*temp_box[1]+3]\n",
    "            \n",
    "            ''' check line at minor scale '''\n",
    "            if self.check_line(temp_minor_box):\n",
    "                self.finished_boxes[self.map_to_major(position)] = self.current_player\n",
    "                \n",
    "                # check line at major scale\n",
    "                if self.check_line(self.finished_boxes):\n",
    "                    self.finished_win = True\n",
    "                    self.finished = True\n",
    "                    return # end the whole thing immediately (will cause stalemate bug without this !)\n",
    "\n",
    "            # if no squares are open, mark as stale\n",
    "            elif (temp_minor_box == 0).sum() == 0:\n",
    "                self.finished_boxes[self.map_to_major(position)] = 6 # indicates stalemate in that box\n",
    "            \n",
    "            ''' is the whole game board stale? '''\n",
    "            # if it's stale, set the appropriate flags\n",
    "            self.check_full_stale()\n",
    "            \n",
    "            ''' calculate active box '''\n",
    "            self.active_box = self.map_to_minor(position)\n",
    "            # if that box is won or stale flag it\n",
    "            if self.finished_boxes[self.active_box] != 0:\n",
    "                self.active_box = (-1,-1)\n",
    "\n",
    "            # switch player\n",
    "            self.switch_active_player()\n",
    "\n",
    "    def get_valid_moves(self) -> np.array:\n",
    "        '''\n",
    "        returns an array (N,2) of valid moves\n",
    "        '''\n",
    "        \n",
    "        if self.finished:\n",
    "            print('no valid moves in terminal state')\n",
    "            return np.empty(0)\n",
    "        # define masks that cover the board\n",
    "        # across the whole board\n",
    "        full_board_mask = (self.board_state == 0)\n",
    "        # active square\n",
    "        active_box_mask = np.zeros((9,9),dtype=bool)\n",
    "        # identifies finished major boxes\n",
    "        a = np.repeat(self.finished_boxes,3).reshape(3,9)\n",
    "        b = np.tile(a,3).reshape(9,9)\n",
    "        finished_box_mask = (b == 0)\n",
    "        \n",
    "        if self.active_box == (-1,-1):\n",
    "            active_box_mask[:] = True\n",
    "            active_box_mask *= finished_box_mask\n",
    "        else:\n",
    "            active_box_mask[3*self.active_box[0]:3*self.active_box[0]+3,\n",
    "                            3*self.active_box[1]:3*self.active_box[1]+3] = True\n",
    "\n",
    "        # return get union of maps\n",
    "        return np.array(np.where(active_box_mask * full_board_mask)).T\n",
    "\n",
    "    ''' ------------- Visualization ------- '''\n",
    "    \n",
    "    def draw_valid_moves(self) -> None:\n",
    "        ''' visualization tool\n",
    "        plots the valid moves as purple squares\n",
    "        to be called after the .draw_board() method\n",
    "        '''\n",
    "        moves = self.get_valid_moves()\n",
    "        plt.scatter(moves[:,0],moves[:,1],marker='s',c='purple',alpha=0.3, s=50)\n",
    "        \n",
    "    def draw_board(self, marker_size: int = 100, ticks: str = 'off') -> None:\n",
    "        ''' visualization tool\n",
    "        plots a checkerboard and markers for all plays.\n",
    "        lines distinguish mini-boards and finished boards are coloured in\n",
    "        '''\n",
    "        plt.imshow(checkerboard((9,9)), cmap=cmap, origin='lower')\n",
    "        for i in [-0.5,2.5,5.5, 8.5]:\n",
    "            plt.axvline(i,c='k')\n",
    "            plt.axhline(i,c='k')\n",
    "            \n",
    "        if ticks == 'off':\n",
    "            plt.axis('off')\n",
    "        else:\n",
    "            plt.xticks(np.arange(9))\n",
    "\n",
    "        plt.scatter(*np.where(self.board_state == -1), marker='x', s=marker_size, c='tab:blue')\n",
    "        plt.scatter(*np.where(self.board_state == 1),  marker='o', s=marker_size, c='tab:orange')\n",
    "        \n",
    "        x_boxes = np.where(self.finished_boxes == -1)\n",
    "        o_boxes = np.where(self.finished_boxes == 1)\n",
    "        plt.scatter(x_boxes[0]*3+1,x_boxes[1]*3+1,marker='s',s=marker_size*50,alpha=0.6,c='tab:blue')\n",
    "        plt.scatter(o_boxes[0]*3+1,o_boxes[1]*3+1,marker='s',s=marker_size*50,alpha=0.6,c='tab:orange')\n",
    "        \n",
    "        stale_boxes = np.where(self.finished_boxes == 6)\n",
    "        plt.scatter(stale_boxes[0]*3+1, stale_boxes[1]*3+1, marker='s', s=marker_size*50, alpha=0.3,c='k')\n",
    "\n"
   ]
  },
  {
   "cell_type": "markdown",
   "id": "dffab8b4-3ccb-429e-8ad0-c0085a8d15af",
   "metadata": {
    "tags": []
   },
   "source": [
    "---\n",
    "### Initializing a game and inspecting the methods\n",
    "\n",
    "We are going to initialize an instance of the UTTT_engine. From there we will investigate available methods to help you develop your bot."
   ]
  },
  {
   "cell_type": "code",
   "execution_count": 48,
   "id": "b3697ca9-3268-4a07-b4e7-6a740046a055",
   "metadata": {},
   "outputs": [],
   "source": [
    "# initialize the engine\n",
    "engine = uttt_engine()\n",
    "\n",
    "# load two agents into the game\n",
    "# We will be overriding some bot logic\n",
    "engine.load_agents(random_bot(name = 'the bot known as player 1'),\n",
    "                   random_bot(name = 'the second bot'))\n"
   ]
  },
  {
   "cell_type": "markdown",
   "id": "a1f2f2ba-2096-487e-9720-ca0eb2bc1cac",
   "metadata": {},
   "source": [
    "The engine has a built-in visualization utility and because this is a new board, it starts blank"
   ]
  },
  {
   "cell_type": "code",
   "execution_count": 49,
   "id": "c28e428b-3a98-4343-9e4c-eaf8d8772778",
   "metadata": {},
   "outputs": [
    {
     "data": {
      "image/png": "[encoded data removed]",
      "text/plain": [
       "<Figure size 640x480 with 1 Axes>"
      ]
     },
     "metadata": {},
     "output_type": "display_data"
    }
   ],
   "source": [
    "engine.draw_board()\n"
   ]
  },
  {
   "cell_type": "markdown",
   "id": "76873c39-3dd7-47e3-b379-1242adccf1b5",
   "metadata": {
    "tags": []
   },
   "source": [
    "Let's make this slightly more interesting by playing 5 random moves.\n"
   ]
  },
  {
   "cell_type": "code",
   "execution_count": 50,
   "id": "aba13737-38f1-4847-82ad-36c3d6f02361",
   "metadata": {},
   "outputs": [
    {
     "data": {
      "image/png": "[encoded data removed]",
      "text/plain": [
       "<Figure size 640x480 with 1 Axes>"
      ]
     },
     "metadata": {},
     "output_type": "display_data"
    }
   ],
   "source": [
    "# note: setting a seed ensures the same game is played because these bots use the np.random module\n",
    "np.random.seed(12345)\n",
    "\n",
    "# Play 5 moves. If the game ends, stop querying the bots\n",
    "for i in range(5):\n",
    "    if engine.finished == False:\n",
    "        engine.query_player()\n",
    "        \n",
    "# draw the board\n",
    "engine.draw_board()\n",
    "\n",
    "# draw the valid moves for the current player\n",
    "engine.draw_valid_moves()"
   ]
  },
  {
   "cell_type": "markdown",
   "id": "0ffeac84-f4d6-4069-a6e0-151ccb454ecf",
   "metadata": {},
   "source": [
    "We played 5 moves which shows that the first move is played by the <b>o</b> player.\n",
    "The purple square markers indicate which positions can be played.<br>\n",
    "X and Y ticks are shown below and board positions are identified by a tuple: (horizontal axis, vertical axis)"
   ]
  },
  {
   "cell_type": "code",
   "execution_count": 51,
   "id": "e290ff95-ffd7-4dec-bf0b-3aacb9dbfcd5",
   "metadata": {},
   "outputs": [
    {
     "data": {
      "image/png": "[encoded data removed]",
      "text/plain": [
       "<Figure size 640x480 with 1 Axes>"
      ]
     },
     "metadata": {},
     "output_type": "display_data"
    }
   ],
   "source": [
    "engine.draw_board(ticks='on')\n",
    "engine.draw_valid_moves()"
   ]
  },
  {
   "cell_type": "markdown",
   "id": "e9bc1dcf-ee15-4acc-a40a-00c0fbda32c4",
   "metadata": {},
   "source": [
    "Let's now look at what your bot can see. The <b>query_dictionary</b> is provided to your bot in the <b>move</b> function, and we can access it directly."
   ]
  },
  {
   "cell_type": "code",
   "execution_count": 52,
   "id": "49a63f27-32a8-4a6a-89fb-302ba3ea1b46",
   "metadata": {},
   "outputs": [
    {
     "data": {
      "text/plain": [
       "{'board_state': array([[-0., -0., -0., -0., -0., -0., -0.,  1., -0.],\n",
       "        [-0., -0., -0., -0., -1., -0., -0., -0., -0.],\n",
       "        [-0., -0., -0., -0., -0., -0., -0., -0., -0.],\n",
       "        [-0., -0., -1., -0., -0., -0., -0., -0., -1.],\n",
       "        [-0., -0., -0., -0., -0.,  1., -0., -0., -0.],\n",
       "        [-0., -0., -0., -0., -0., -0., -0., -0., -0.],\n",
       "        [-0., -0., -0., -0., -0., -0., -0., -0., -0.],\n",
       "        [-0., -0., -0., -0., -0., -0., -0., -0., -0.],\n",
       "        [-0., -0., -0., -0., -0., -0., -0., -0., -0.]]),\n",
       " 'active_box': (0, 2),\n",
       " 'valid_moves': array([[0, 6],\n",
       "        [0, 8],\n",
       "        [1, 6],\n",
       "        [1, 7],\n",
       "        [1, 8],\n",
       "        [2, 6],\n",
       "        [2, 7],\n",
       "        [2, 8]], dtype=int64)}"
      ]
     },
     "execution_count": 52,
     "metadata": {},
     "output_type": "execute_result"
    }
   ],
   "source": [
    "engine.get_query_dict()"
   ]
  },
  {
   "cell_type": "markdown",
   "id": "93997e52-e851-4626-8637-e6ca24452a57",
   "metadata": {},
   "source": [
    "There are 3 keys: <br>\n",
    " - <b>board_state</b> is the 9x9 board in an array. You may notice that it has a weird rotation when printed out, but the position (0, 7) does indeed contain a \"1\" indicating a self-marker. This follows the convention (in the visualization) that a position is the x-axis followed by the y-axis with the origin in the bottom left corner."
   ]
  },
  {
   "cell_type": "code",
   "execution_count": 53,
   "id": "2001efd2-a6d2-4a00-841a-322d6c2dedd0",
   "metadata": {},
   "outputs": [
    {
     "data": {
      "text/plain": [
       "1.0"
      ]
     },
     "execution_count": 53,
     "metadata": {},
     "output_type": "execute_result"
    }
   ],
   "source": [
    "engine.get_query_dict()['board_state'][0, 7]"
   ]
  },
  {
   "cell_type": "markdown",
   "id": "3e31eed8-6567-469a-b691-28a9416f41a7",
   "metadata": {},
   "source": [
    "- <b>active_box</b> is a quality-of-life argument indicating which <b>mini-board</b> is currently active. It follows a similar convection of counting x-axis then y-axis with the origin in the bottom left corner.\n",
    "\n"
   ]
  },
  {
   "cell_type": "code",
   "execution_count": 54,
   "id": "efcb827b-c1f1-4420-a436-32582af32e13",
   "metadata": {},
   "outputs": [
    {
     "data": {
      "text/plain": [
       "[<matplotlib.axis.YTick at 0x281ccd9aef0>,\n",
       " <matplotlib.axis.YTick at 0x281ccd98c40>,\n",
       " <matplotlib.axis.YTick at 0x281cce26c80>]"
      ]
     },
     "execution_count": 54,
     "metadata": {},
     "output_type": "execute_result"
    },
    {
     "data": {
      "image/png": "[encoded data removed]",
      "text/plain": [
       "<Figure size 640x480 with 1 Axes>"
      ]
     },
     "metadata": {},
     "output_type": "display_data"
    }
   ],
   "source": [
    "engine.draw_board()\n",
    "engine.draw_valid_moves()\n",
    "\n",
    "# displays the mini-board indices\n",
    "ax = plt.gca()\n",
    "ax.axis('on')\n",
    "ax.set_xlabel('mini board index')\n",
    "ax.set_ylabel('mini board index')\n",
    "ax.set_xticks([1,4,7],[0,1,2])\n",
    "ax.set_yticks([1,4,7],[0,1,2])"
   ]
  },
  {
   "cell_type": "markdown",
   "id": "7dc09ca0-9a7c-4a1f-a089-d4445d0a79a6",
   "metadata": {},
   "source": [
    " - and finally, <b> valid_moves </b> is a list of positions that would be valid moves.\n",
    " "
   ]
  },
  {
   "cell_type": "markdown",
   "id": "61450427-011b-4465-a017-8c2c21d25775",
   "metadata": {
    "jp-MarkdownHeadingCollapsed": true,
    "tags": []
   },
   "source": [
    "---\n",
    "### Alternative visualization\n",
    "Let's finish this game and look at a more attractive game visualizer\n",
    "\n"
   ]
  },
  {
   "cell_type": "code",
   "execution_count": 55,
   "id": "99609621-0915-4217-8ab2-22484eee9444",
   "metadata": {},
   "outputs": [
    {
     "name": "stdout",
     "output_type": "stream",
     "text": [
      "the second bot wins!\n"
     ]
    }
   ],
   "source": [
    "# query players until the game is finished\n",
    "while engine.finished == False:\n",
    "    engine.query_player()\n",
    "    \n",
    "print(engine.agents[0].name, 'wins!')\n"
   ]
  },
  {
   "cell_type": "markdown",
   "id": "2e1b3af9-44eb-4442-abb1-fae844e9b383",
   "metadata": {},
   "source": [
    "The game is encoded in the string:"
   ]
  },
  {
   "cell_type": "code",
   "execution_count": 56,
   "id": "5424a0b1-7f58-490c-b781-b00dd4aef5d8",
   "metadata": {},
   "outputs": [
    {
     "name": "stdout",
     "output_type": "stream",
     "text": [
      "='-IC8W6Z,N[0RnV\"(9lc?%1UeMX/<5iY4fPjpgTm]@:oSh_E>2aKG^ +J!)BA*`\n"
     ]
    }
   ],
   "source": [
    "# the game \n",
    "print(engine.get_game_log())"
   ]
  },
  {
   "cell_type": "markdown",
   "id": "b20b2a5a-52be-471b-884c-8fc617ec63a0",
   "metadata": {},
   "source": [
    "Copy that string and go to https://uttt-visual.vercel.app/. <br>\n",
    "There is a box called <b>game data</b> where you can paste the game.<br>\n",
    "It will show the final state, but you can run through the game by pressing <b>run</b>."
   ]
  },
  {
   "cell_type": "code",
   "execution_count": 57,
   "id": "4e788340-3f47-43f6-aa5a-752c25c06520",
   "metadata": {},
   "outputs": [
    {
     "data": {
      "image/png": "[encoded data removed]",
      "text/plain": [
       "<Figure size 640x480 with 1 Axes>"
      ]
     },
     "metadata": {},
     "output_type": "display_data"
    }
   ],
   "source": [
    "\n",
    "# For interest, each position is given a character and the order of the characters in the encoding\n",
    "# shows when positions were played \n",
    "\n",
    "# remove the markers by re-initializing the engine\n",
    "engine = uttt_engine()\n",
    "engine.draw_board()\n",
    "\n",
    "# visualize the characters in their positions\n",
    "offset = 32\n",
    "for i in range(81):\n",
    "    plt.text(i//9, i%9, chr(i+offset), ma='center')\n"
   ]
  },
  {
   "cell_type": "markdown",
   "id": "8238c0bb-fffa-4002-84c8-02cb349910b2",
   "metadata": {
    "jp-MarkdownHeadingCollapsed": true,
    "tags": []
   },
   "source": [
    "---\n",
    "### A mid-tier bot\n",
    "Provided below is a bot that performs better than the random baseline, but there is considerably room for improvement. That's where you come in.\n",
    "\n",
    "At a high level, the bot only looks at the current mini-board. If there is an opportunity to block the opponent, it will take that position. If not, the bot will try to take the middle. If that's not available, it will try to take a random corner. Finally it will take any valid move (which would be an edge by process of elimination).\n",
    "\n",
    "If it is provided a full-board for valid moves it follows a similar procedure to select which mini-board to play in. Then it applies the above logic."
   ]
  },
  {
   "cell_type": "code",
   "execution_count": 58,
   "id": "d558ebf2-3570-4780-aab7-e453a25a420a",
   "metadata": {},
   "outputs": [],
   "source": [
    "class finns_heuristic_bot:\n",
    "    '''\n",
    "    this could use a significant refactor\n",
    "    this provides a lot of methods to pull and remix\n",
    "    really doesn't use valid_moves\n",
    "    (valid moves can be determined from board_state and active_box)\n",
    "    \n",
    "    it's not very strong. you should be able to beat this fairly easily.\n",
    "    '''\n",
    "    \n",
    "    ''' ------------------ required function ---------------- '''\n",
    "    \n",
    "    def __init__(self,name: str = 'Aljoscha') -> None:\n",
    "        self.name = name\n",
    "        \n",
    "    def move(self, board_dict: dict) -> tuple:\n",
    "        ''' wrapper\n",
    "        apply the logic and returns the desired move\n",
    "        '''\n",
    "        return tuple(self.heuristic_mini_to_major(board_state = board_dict['board_state'],\n",
    "                                                  active_box = board_dict['active_box'],\n",
    "                                                  valid_moves = board_dict['valid_moves']))\n",
    "    \n",
    "    \n",
    "    ''' --------- generally useful bot functions ------------ '''\n",
    "    \n",
    "    def _check_line(self, box: np.array) -> bool:\n",
    "        '''\n",
    "        box is a (3,3) array\n",
    "        returns True if a line is found, else returns False '''\n",
    "        for i in range(3):\n",
    "            if abs(sum(box[:,i])) == 3: return True # horizontal\n",
    "            if abs(sum(box[i,:])) == 3: return True # vertical\n",
    "\n",
    "        # diagonals\n",
    "        if abs(box.trace()) == 3: return True\n",
    "        if abs(np.rot90(box).trace()) == 3: return True\n",
    "        return False\n",
    "\n",
    "    def _check_line_playerwise(self, box: np.array, player: int = None):\n",
    "        ''' returns true if the given player has a line in the box, else false\n",
    "        if no player is given, it checks for whether any player has a line in the box'''\n",
    "        if player == None:\n",
    "            return self._check_line(box)\n",
    "        if player == -1:\n",
    "            box = box * -1\n",
    "        box = np.clip(box,0,1)\n",
    "        return self._check_line(box)\n",
    "    \n",
    "    def pull_mini_board(self, board_state: np.array, mini_board_index: tuple) -> np.array:\n",
    "        ''' extracts a mini board from the 9x9 given the its index'''\n",
    "        temp = board_state[mini_board_index[0]*3:(mini_board_index[0]+1)*3,\n",
    "                           mini_board_index[1]*3:(mini_board_index[1]+1)*3]\n",
    "        return temp\n",
    "\n",
    "    def get_valid(self, mini_board: np.array) -> np.array:\n",
    "        ''' gets valid moves in the miniboard'''\n",
    "        return np.where(mini_board == 0)\n",
    "\n",
    "    \n",
    "    def get_finished(self, board_state: np.array) -> np.array:\n",
    "        ''' calculates the completed boxes'''\n",
    "        opp_boxes = np.zeros((3,3))\n",
    "        self_boxes = np.zeros((3,3))\n",
    "        stale_boxes = np.zeros((3,3))\n",
    "        # look at each miniboard separately\n",
    "        for _r in range(3):\n",
    "            for _c in range(3):\n",
    "                temp_miniboard = self.pull_mini_board(board_state, (_r,_c))\n",
    "                self_boxes[_r,_c] = self._check_line_playerwise(temp_miniboard, player = 1)\n",
    "                opp_boxes[_r,_c] = self._check_line_playerwise(temp_miniboard, player = -1)\n",
    "                if sum(abs(temp_miniboard.flatten())) == 9:\n",
    "                    stale_boxes[_r,_c] = 1                   \n",
    "\n",
    "        # return finished boxes (separated by their content)\n",
    "        return (opp_boxes*-1, self_boxes, stale_boxes)\n",
    "    \n",
    "    def convert_pos_to_int(self, position: tuple) -> int:\n",
    "        ''' converts a tuple to a unique location on the board represented by an integer\n",
    "        (2,4) -> 18 + 4 -> 22 '''\n",
    "        # comparing tuples is irritating, comparing integers is much easier\n",
    "        return position[0] * 9 + position[1]\n",
    "    \n",
    "    def convert_pos_to_int(self, position: tuple) -> int:\n",
    "        '''\n",
    "        currently unused\n",
    "        \n",
    "        converts a tuple to a unique location on the board represented by an integer\n",
    "        (2,4) -> 18 + 4 -> 22 '''\n",
    "        # comparing tuples is irritating, comparing integers is much easier\n",
    "        return position[0] * 9 + position[1]\n",
    "    \n",
    "    def block_imminent(self, mini_board: np.array) -> list:\n",
    "        ''' tries to block the opponent if they have 2/3rds of a line '''\n",
    "        # loop through valid moves with enemy position there.\n",
    "        # if it makes a line it's imminent\n",
    "        imminent = list()\n",
    "\n",
    "        for _valid in zip(*self.get_valid(mini_board)):\n",
    "            # create temp valid pattern\n",
    "            valid_filter = np.zeros((3,3))\n",
    "            valid_filter[_valid[0],_valid[1]] = -1\n",
    "            if self._check_line(mini_board + valid_filter):\n",
    "                imminent.append(_valid)\n",
    "        return imminent\n",
    "    \n",
    "    \n",
    "    ''' ------------------ bot specific logic ---------------- '''\n",
    "    \n",
    "    def heuristic_mini_to_major(self, board_state: np.array,\n",
    "                                active_box: tuple,\n",
    "                                valid_moves: list) -> tuple:\n",
    "        '''\n",
    "        either applies the heuristic to the mini-board or selects a mini-board (then applies the heuristic to it)\n",
    "        '''\n",
    "\n",
    "        if active_box != (-1,-1):\n",
    "            # look just at the mini board\n",
    "            temp_miniboard = self.pull_mini_board(board_state, active_box)\n",
    "            # look using the logic, select a move\n",
    "            move = self.mid_heuristic(temp_miniboard)\n",
    "            # project back to original board space\n",
    "            return (move[0] + 3 * active_box[0],\n",
    "                    move[1] + 3 * active_box[1])\n",
    "\n",
    "        else:\n",
    "            # use heuristic on finished boxes to select which box to play in\n",
    "            imposed_active_box = self.major_heuristic(board_state)\n",
    "\n",
    "            # call this function with the self-imposed active box\n",
    "            return self.heuristic_mini_to_major(board_state = board_state,\n",
    "                                           active_box = imposed_active_box,\n",
    "                                           valid_moves = valid_moves)\n",
    "\n",
    "    def major_heuristic(self, board_state: np.array) -> tuple:\n",
    "        '''\n",
    "        determines which miniboard to play on\n",
    "        note: having stale boxes was causing issues where the logic wanted to block\n",
    "              the opponent but that mini-board was already finished (it was stale)\n",
    "        '''\n",
    "        z = self.get_finished(board_state)\n",
    "        # finished boxes is a tuple of 3 masks: self, opponent, stale \n",
    "        self_boxes  = z[0]\n",
    "        opp_boxes   = z[1]\n",
    "        stale_boxes = z[2]\n",
    "        \n",
    "        # identify imminent wins\n",
    "        imminent_wins = self.block_imminent(self_boxes + opp_boxes)\n",
    "        \n",
    "        # make new list to remove imminent wins that point to stale boxes\n",
    "        stale_boxes = list(zip(*np.where(stale_boxes)))\n",
    "        for stale_box in stale_boxes:\n",
    "            if stale_box in imminent_wins:\n",
    "                imminent_wins.remove(stale_box)\n",
    "        if len(imminent_wins) > 0:\n",
    "            return imminent_wins[np.random.choice(len(imminent_wins))]\n",
    "\n",
    "        # take center if available\n",
    "        internal_valid = list(zip(*self.get_valid(self_boxes + opp_boxes)))\n",
    "        for stale_box in stale_boxes:\n",
    "            if stale_box in internal_valid:\n",
    "                internal_valid.remove(stale_box)\n",
    "\n",
    "        if (1,1) in internal_valid:\n",
    "            return (1,1)\n",
    "\n",
    "        # else take random corner\n",
    "        _corners = [(0,0),(0,2),(0,2),(2,2)]\n",
    "        _valid_corner = list()\n",
    "\n",
    "        for _corner in _corners:\n",
    "            if _corner in internal_valid:\n",
    "                _valid_corner.append(_corner)\n",
    "        if len(_valid_corner) > 0:\n",
    "            return _valid_corner[np.random.choice(len(_valid_corner))]\n",
    "\n",
    "        # else take random\n",
    "        return internal_valid[np.random.choice(len(internal_valid))]\n",
    "        \n",
    "    def mid_heuristic(self, miniboard: np.array) -> tuple:\n",
    "        ''' main mini-board logic '''\n",
    "        # block imminent wins on this miniboard\n",
    "        imminent_wins = self.block_imminent(miniboard)\n",
    "        if len(imminent_wins) > 0:\n",
    "            return imminent_wins[np.random.choice(len(imminent_wins))]\n",
    "\n",
    "        # take center if available\n",
    "        internal_valid = list(zip(*self.get_valid(miniboard)))\n",
    "        if (1,1) in internal_valid:\n",
    "            return (1,1)\n",
    "\n",
    "        # else take random corner\n",
    "        _corners = [(0,0),(0,2),(0,2),(2,2)]\n",
    "        _valid_corner = list()\n",
    "\n",
    "        for _corner in _corners:\n",
    "            if _corner in internal_valid:\n",
    "                _valid_corner.append(_corner)\n",
    "        if len(_valid_corner) > 0:\n",
    "            return _valid_corner[np.random.choice(len(_valid_corner))] # must convert back to full board tuple\n",
    "\n",
    "        # else take random\n",
    "        return internal_valid[np.random.choice(len(internal_valid))]\n"
   ]
  },
  {
   "cell_type": "markdown",
   "id": "64499eff-0072-443c-9a06-9f7f11e7ea6d",
   "metadata": {
    "tags": []
   },
   "source": [
    "---\n",
    "\n",
    "### Bot evaluation\n",
    "\n",
    "For the tournament we will be initializing the board with a set of 4 random moves. This helps ensure interesting and different games between bots. To test how well performs against another bot, we can run multiple games. Code to do so is provided below along with an example for running it.\n"
   ]
  },
  {
   "cell_type": "code",
   "execution_count": 72,
   "id": "e80d1fd5-5460-41fd-904e-54139c06fe6a",
   "metadata": {},
   "outputs": [],
   "source": [
    "def initialize(engine_instance, n_moves:int) -> None:\n",
    "    ''' plays some number of random moves to initialize a game '''\n",
    "    if n_moves%2 != 0:\n",
    "        print('warning: number of moves should be even!')\n",
    "    \n",
    "    for i in range(n_moves):\n",
    "        valid_moves = engine_instance.get_valid_moves()\n",
    "        random_index = np.random.choice(len(valid_moves))\n",
    "        engine_instance.move(tuple(valid_moves[random_index]))\n",
    "\n",
    "def run_many_games(agent1: bot_template,\n",
    "                   agent2: bot_template,\n",
    "                   n_games: int = 1000,\n",
    "                   n_init_moves: int = 4):\n",
    "    ''' repeatedly plays games between two bots to evaluate their fraction of wins '''\n",
    "    # NOTE: this doesn't switch which player goes first. There may be a mild first-player advantage\n",
    "    \n",
    "    wins = list()\n",
    "    for i in range(n_games):\n",
    "        finished_flag = False\n",
    "        engine = uttt_engine()\n",
    "        engine.load_agents(agent1, agent2)\n",
    "        initialize(engine, n_moves=n_init_moves)\n",
    "        while not finished_flag:\n",
    "            engine.query_player()\n",
    "            if engine.finished:\n",
    "                finished_flag = True\n",
    "        wins.append(engine.getwinner())\n",
    "        \n",
    "    # return stats\n",
    "    if sum(wins) > 0: print(agent1.name, 'is the overall winner')\n",
    "    if sum(wins) < 0: print(agent2.name, 'is the overall winner')\n",
    "    if sum(wins) == 0: print(agent1.name,'and',agent2.name,'are evenly matched')\n",
    "    return np.array(wins)"
   ]
  },
  {
   "cell_type": "markdown",
   "id": "da4e40ae-178a-4440-afef-3e9d2addb32c",
   "metadata": {
    "tags": []
   },
   "source": [
    "### Evaluate bots\n",
    "The following code initializes two bots and plays the default number of games between them (defaults to 1000 games)"
   ]
  },
  {
   "cell_type": "code",
   "execution_count": 73,
   "id": "15ee0361-23d1-4667-bf08-e5f38aecc7f5",
   "metadata": {},
   "outputs": [
    {
     "name": "stdout",
     "output_type": "stream",
     "text": [
      "beep-boop and boop are evenly matched\n"
     ]
    }
   ],
   "source": [
    "\n",
    "from ari_utt_agent import agent\n",
    "\n",
    "agent1 = finns_heuristic_bot(name = 'beep-boop')\n",
    "agent2 = agent(name = 'boop')\n",
    "\n",
    "stats = run_many_games(agent1 = agent1, agent2 = agent2, n_games = 2)"
   ]
  },
  {
   "cell_type": "code",
   "execution_count": 65,
   "id": "70386755-662a-4e73-89c9-ad4527207f72",
   "metadata": {},
   "outputs": [
    {
     "name": "stdout",
     "output_type": "stream",
     "text": [
      "beep-boop wins: 641\n",
      "boop wins: 54\n",
      "draws: 305\n"
     ]
    }
   ],
   "source": [
    "print(f'{agent1.name} wins:', sum(stats == 1))\n",
    "print(f'{agent2.name} wins:', sum(stats == -1))\n",
    "print('draws:', sum(stats == 0))"
   ]
  },
  {
   "cell_type": "markdown",
   "id": "5dd4c7f9-b343-4868-b755-b75acb78d990",
   "metadata": {},
   "source": [
    "---\n",
    "### Useful Development tool\n",
    "Below is some code to create a random board state that you can ensure your bot is operating as desired.\n",
    "\n",
    "Running it will create a new random board state each time, which allows quick inspection of possible scenarios.\n",
    "\n",
    "Note: The code below does not send the proposed move through the engine so it will not default to a random move. It will show the proposed move of the bot even if it is invalid."
   ]
  },
  {
   "cell_type": "code",
   "execution_count": 77,
   "id": "f74f9956-6f90-47a7-aabe-32dc2b575e31",
   "metadata": {},
   "outputs": [
    {
     "data": {
      "image/png": "[encoded data removed]",
      "text/plain": [
       "<Figure size 640x480 with 1 Axes>"
      ]
     },
     "metadata": {},
     "output_type": "display_data"
    }
   ],
   "source": [
    "\n",
    "''' -- initialize a board ... '''\n",
    "engine = uttt_engine()\n",
    "engine.load_agents(random_bot(name = 'the bot known as player 1'),\n",
    "                   random_bot(name = 'the second bot'))\n",
    "''' ... and play some moves randomly -- '''\n",
    "for i in range(20):\n",
    "    if engine.finished == False:\n",
    "        engine.query_player()\n",
    "\n",
    "''' -- visualize -- '''\n",
    "engine.draw_board(ticks='on')\n",
    "engine.draw_valid_moves()\n",
    "\n",
    "\n",
    "''' -- initialize your bot -- '''\n",
    "# my_bot = your_bot(name='test version 0.1')\n",
    "# my_bot = finns_heuristic_bot(name='example logical bot')\n",
    "my_bot = agent(name=\":)\")\n",
    "\n",
    "''' see what your bot thinks is a good move '''\n",
    "proposed_move = my_bot.move(engine.get_query_dict())\n",
    "\n",
    "''' visualize the proposed move '''\n",
    "plt.scatter(proposed_move[0],proposed_move[1],marker='+',c='k',s=200)"
   ]
  },
  {
   "cell_type": "markdown",
   "id": "3e54b317-1e9a-4f4d-bc42-7b62815a8bdd",
   "metadata": {},
   "source": [
    "---\n",
    "### Final thoughts\n",
    "\n",
    "Start small and work in teams. There will likely be a lot of overlapping functions, so talk to others about what you are looking for. They may have already written it.\n",
    "\n",
    "Hints:\n",
    " - Try to finish a bot before trying to improve it.\n",
    " - If you ever feel unsure about a move, you can return nothing. The engine will interpret any invalid move as random move.\n",
    " - Check your bot often and work slowly. Make sure each method performs as expected.\n",
    " "
   ]
  }
 ],
 "metadata": {
  "kernelspec": {
   "display_name": "Python 3 (ipykernel)",
   "language": "python",
   "name": "python3"
  },
  "language_info": {
   "codemirror_mode": {
    "name": "ipython",
    "version": 3
   },
   "file_extension": ".py",
   "mimetype": "text/x-python",
   "name": "python",
   "nbconvert_exporter": "python",
   "pygments_lexer": "ipython3",
   "version": "3.10.11"
  }
 },
 "nbformat": 4,
 "nbformat_minor": 5
}
